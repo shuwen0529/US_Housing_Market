{
 "cells": [
  {
   "cell_type": "markdown",
   "metadata": {},
   "source": [
    "## Step 1: Import Dependencies"
   ]
  },
  {
   "cell_type": "code",
   "execution_count": 2,
   "metadata": {},
   "outputs": [],
   "source": [
    "import csv\n",
    "import psycopg2"
   ]
  },
  {
   "cell_type": "markdown",
   "metadata": {},
   "source": [
    "## Step 2: Connect to Postgres"
   ]
  },
  {
   "cell_type": "code",
   "execution_count": 3,
   "metadata": {},
   "outputs": [],
   "source": [
    "conn = psycopg2.connect(\"host=localhost dbname=ProjectHousingMarket user=postgres password=postgres\")\n",
    "cur = conn.cursor()"
   ]
  },
  {
   "cell_type": "markdown",
   "metadata": {},
   "source": [
    "## Step 3: Create new tables in Postgres"
   ]
  },
  {
   "cell_type": "code",
   "execution_count": 7,
   "metadata": {},
   "outputs": [
    {
     "ename": "InFailedSqlTransaction",
     "evalue": "current transaction is aborted, commands ignored until end of transaction block\n",
     "output_type": "error",
     "traceback": [
      "\u001b[0;31m---------------------------------------------------------------------------\u001b[0m",
      "\u001b[0;31mInFailedSqlTransaction\u001b[0m                    Traceback (most recent call last)",
      "\u001b[0;32m<ipython-input-7-f34542049858>\u001b[0m in \u001b[0;36m<module>\u001b[0;34m\u001b[0m\n\u001b[1;32m     42\u001b[0m \u001b[0mr_domestic_mig\u001b[0m \u001b[0mnumeric\u001b[0m \u001b[0mNOT\u001b[0m \u001b[0mNULL\u001b[0m\u001b[0;34m,\u001b[0m\u001b[0;34m\u001b[0m\u001b[0;34m\u001b[0m\u001b[0m\n\u001b[1;32m     43\u001b[0m r_net_mig numeric NOT NULL);\n\u001b[0;32m---> 44\u001b[0;31m \"\"\") \n\u001b[0m",
      "\u001b[0;31mInFailedSqlTransaction\u001b[0m: current transaction is aborted, commands ignored until end of transaction block\n"
     ]
    }
   ],
   "source": [
    "### Create table\n",
    "\n",
    "cur.execute(\"\"\"\n",
    "--DROP TABLE state_ranking;\n",
    "CREATE TABLE state_ranking(\n",
    "state character varying(50) COLLATE pg_catalog.\"default\",\n",
    "overall_rank smallint NOT NULL,\n",
    "quality_of_life smallint NOT NULL,\n",
    "economy smallint NOT NULL,\n",
    "infrastructure smallint NOT NULL,\n",
    "tech_innovation smallint NOT NULL,\n",
    "education smallint NOT NULL,\n",
    "access_to_capital smallint NOT NULL,\n",
    "cost_of_living smallint NOT NULL,\n",
    "year smallint NOT NULL,\n",
    "interest_rate numeric(7,2) NULL,\n",
    "purchase_price INT NULL\n",
    ");\n",
    "\n",
    "--DROP TABLE poverty;\n",
    "CREATE TABLE poverty(\n",
    "state VARCHAR(50),\n",
    "poverty_percent numeric(7,2) NOT NULL,\n",
    "year smallint NOT NULL);\n",
    "\n",
    "--DROP TABLE population;\n",
    "CREATE TABLE population(\n",
    "state character varying(50) COLLATE pg_catalog.\"default\",\n",
    "year smallint NOT NULL,\n",
    "pop_estimate int NULL,\n",
    "pop_change int NULL,\n",
    "births int NOT NULL,\n",
    "deaths int NOT NULL,\n",
    "international_mig int NOT NULL,\n",
    "domestic_mig int NOT NULL,\n",
    "net_mig int NOT NULL,\n",
    "natural_inc int NOT NULL,\n",
    "r_birth numeric NOT NULL,\n",
    "r_death numeric NOT NULL,\n",
    "r_natural_inc numeric NOT NULL,\n",
    "r_international_mig numeric NOT NULL,\n",
    "r_domestic_mig numeric NOT NULL,\n",
    "r_net_mig numeric NOT NULL);\n",
    "\"\"\") \n"
   ]
  },
  {
   "cell_type": "markdown",
   "metadata": {},
   "source": [
    "## Step 4: Load state ranking data"
   ]
  },
  {
   "cell_type": "code",
   "execution_count": null,
   "metadata": {
    "scrolled": true
   },
   "outputs": [],
   "source": [
    "### Read csv file\n",
    "with open('../data/OverallStateRanking.csv', 'r') as f:\n",
    "    next(f) # Skip header\n",
    "    cur.copy_from(f, 'state_ranking', sep=',')\n"
   ]
  },
  {
   "cell_type": "markdown",
   "metadata": {},
   "source": [
    "## Step 5: Load poverty data"
   ]
  },
  {
   "cell_type": "code",
   "execution_count": null,
   "metadata": {},
   "outputs": [],
   "source": [
    "with open('../data/PovertyByState.csv', 'r') as f:\n",
    "    next(f) # Skip header\n",
    "    cur.copy_from(f, 'poverty', sep=',')"
   ]
  },
  {
   "cell_type": "markdown",
   "metadata": {},
   "source": [
    "## Step 6: Load population data"
   ]
  },
  {
   "cell_type": "code",
   "execution_count": null,
   "metadata": {},
   "outputs": [],
   "source": [
    "with open('../data/PopulationByState.csv', 'r') as f:\n",
    "    next(f) # Skip header\n",
    "    cur.copy_from(f, 'population', sep=',')"
   ]
  },
  {
   "cell_type": "markdown",
   "metadata": {},
   "source": [
    "## Step 7: Commit changes"
   ]
  },
  {
   "cell_type": "code",
   "execution_count": null,
   "metadata": {},
   "outputs": [],
   "source": [
    "### Commit\n",
    "conn.commit()"
   ]
  },
  {
   "cell_type": "code",
   "execution_count": null,
   "metadata": {},
   "outputs": [],
   "source": []
  }
 ],
 "metadata": {
  "kernelspec": {
   "display_name": "Python 3",
   "language": "python",
   "name": "python3"
  },
  "language_info": {
   "codemirror_mode": {
    "name": "ipython",
    "version": 3
   },
   "file_extension": ".py",
   "mimetype": "text/x-python",
   "name": "python",
   "nbconvert_exporter": "python",
   "pygments_lexer": "ipython3",
   "version": "3.7.3"
  },
  "varInspector": {
   "cols": {
    "lenName": 16,
    "lenType": 16,
    "lenVar": 40
   },
   "kernels_config": {
    "python": {
     "delete_cmd_postfix": "",
     "delete_cmd_prefix": "del ",
     "library": "var_list.py",
     "varRefreshCmd": "print(var_dic_list())"
    },
    "r": {
     "delete_cmd_postfix": ") ",
     "delete_cmd_prefix": "rm(",
     "library": "var_list.r",
     "varRefreshCmd": "cat(var_dic_list()) "
    }
   },
   "types_to_exclude": [
    "module",
    "function",
    "builtin_function_or_method",
    "instance",
    "_Feature"
   ],
   "window_display": false
  }
 },
 "nbformat": 4,
 "nbformat_minor": 2
}
